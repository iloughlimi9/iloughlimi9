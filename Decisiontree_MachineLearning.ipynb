{
  "cells": [
    {
      "cell_type": "markdown",
      "metadata": {
        "id": "view-in-github",
        "colab_type": "text"
      },
      "source": [
        "<a href=\"https://colab.research.google.com/github/iloughlimi9/iloughlimi9/blob/main/Decisiontree_MachineLearning.ipynb\" target=\"_parent\"><img src=\"https://colab.research.google.com/assets/colab-badge.svg\" alt=\"Open In Colab\"/></a>"
      ]
    },
    {
      "cell_type": "markdown",
      "metadata": {
        "id": "QyhHP9IsCAhP"
      },
      "source": [
        "# TP : Random Forest / Boosting appliqués au Titanic"
      ]
    },
    {
      "cell_type": "markdown",
      "metadata": {
        "id": "rvT6HFtPCAhS"
      },
      "source": [
        "## import des librairies"
      ]
    },
    {
      "cell_type": "code",
      "execution_count": 53,
      "metadata": {
        "id": "pWGWGyoVCAhT"
      },
      "outputs": [],
      "source": [
        "import pandas as pd\n",
        "import numpy as np\n",
        "import os\n",
        "\n",
        "from IPython.display import Image\n",
        "\n",
        "%matplotlib inline\n",
        "import matplotlib.pyplot as plt\n",
        "from matplotlib.colors import ListedColormap\n",
        "\n",
        "from sklearn.ensemble import AdaBoostClassifier\n",
        "from sklearn.ensemble import GradientBoostingClassifier\n",
        "from sklearn.ensemble import RandomForestClassifier\n",
        "\n",
        "from sklearn.metrics import accuracy_score\n",
        "\n",
        "from sklearn.model_selection import train_test_split\n",
        "\n",
        "from sklearn.tree import DecisionTreeClassifier\n",
        "from sklearn.tree import export_graphviz"
      ]
    },
    {
      "cell_type": "markdown",
      "metadata": {
        "id": "cPSThAfwCAhV"
      },
      "source": [
        "## 1. Lecture des fichiers de données\n",
        "1.1 Lire le Dataframe train (avec le champs Survived). Afficher les 10 premières lignes."
      ]
    },
    {
      "cell_type": "code",
      "execution_count": 54,
      "metadata": {
        "id": "EBIHkFNoCAhW",
        "outputId": "c9d01dd7-a605-4429-c259-846ebfa24443",
        "colab": {
          "base_uri": "https://localhost:8080/",
          "height": 363
        }
      },
      "outputs": [
        {
          "output_type": "execute_result",
          "data": {
            "text/plain": [
              "   PassengerId  Survived  Pclass  Sex   Age     Fare  Embarked  IsAlone  Title\n",
              "0            1         0       3    1  22.0   7.2500         0        0      1\n",
              "1            2         1       1    0  38.0  71.2833         1        0      3\n",
              "2            3         1       3    0  26.0   7.9250         0        1      2\n",
              "3            4         1       1    0  35.0  53.1000         0        0      3\n",
              "4            5         0       3    1  35.0   8.0500         0        1      1\n",
              "5            6         0       3    1  41.0   8.4583         2        1      1\n",
              "6            7         0       1    1  54.0  51.8625         0        1      1\n",
              "7            8         0       3    1   2.0  21.0750         0        0      4\n",
              "8            9         1       3    0  27.0  11.1333         0        0      3\n",
              "9           10         1       2    0  14.0  30.0708         1        0      3"
            ],
            "text/html": [
              "\n",
              "  <div id=\"df-e5824afd-d782-4b49-af64-9c5c1cbcfc02\">\n",
              "    <div class=\"colab-df-container\">\n",
              "      <div>\n",
              "<style scoped>\n",
              "    .dataframe tbody tr th:only-of-type {\n",
              "        vertical-align: middle;\n",
              "    }\n",
              "\n",
              "    .dataframe tbody tr th {\n",
              "        vertical-align: top;\n",
              "    }\n",
              "\n",
              "    .dataframe thead th {\n",
              "        text-align: right;\n",
              "    }\n",
              "</style>\n",
              "<table border=\"1\" class=\"dataframe\">\n",
              "  <thead>\n",
              "    <tr style=\"text-align: right;\">\n",
              "      <th></th>\n",
              "      <th>PassengerId</th>\n",
              "      <th>Survived</th>\n",
              "      <th>Pclass</th>\n",
              "      <th>Sex</th>\n",
              "      <th>Age</th>\n",
              "      <th>Fare</th>\n",
              "      <th>Embarked</th>\n",
              "      <th>IsAlone</th>\n",
              "      <th>Title</th>\n",
              "    </tr>\n",
              "  </thead>\n",
              "  <tbody>\n",
              "    <tr>\n",
              "      <th>0</th>\n",
              "      <td>1</td>\n",
              "      <td>0</td>\n",
              "      <td>3</td>\n",
              "      <td>1</td>\n",
              "      <td>22.0</td>\n",
              "      <td>7.2500</td>\n",
              "      <td>0</td>\n",
              "      <td>0</td>\n",
              "      <td>1</td>\n",
              "    </tr>\n",
              "    <tr>\n",
              "      <th>1</th>\n",
              "      <td>2</td>\n",
              "      <td>1</td>\n",
              "      <td>1</td>\n",
              "      <td>0</td>\n",
              "      <td>38.0</td>\n",
              "      <td>71.2833</td>\n",
              "      <td>1</td>\n",
              "      <td>0</td>\n",
              "      <td>3</td>\n",
              "    </tr>\n",
              "    <tr>\n",
              "      <th>2</th>\n",
              "      <td>3</td>\n",
              "      <td>1</td>\n",
              "      <td>3</td>\n",
              "      <td>0</td>\n",
              "      <td>26.0</td>\n",
              "      <td>7.9250</td>\n",
              "      <td>0</td>\n",
              "      <td>1</td>\n",
              "      <td>2</td>\n",
              "    </tr>\n",
              "    <tr>\n",
              "      <th>3</th>\n",
              "      <td>4</td>\n",
              "      <td>1</td>\n",
              "      <td>1</td>\n",
              "      <td>0</td>\n",
              "      <td>35.0</td>\n",
              "      <td>53.1000</td>\n",
              "      <td>0</td>\n",
              "      <td>0</td>\n",
              "      <td>3</td>\n",
              "    </tr>\n",
              "    <tr>\n",
              "      <th>4</th>\n",
              "      <td>5</td>\n",
              "      <td>0</td>\n",
              "      <td>3</td>\n",
              "      <td>1</td>\n",
              "      <td>35.0</td>\n",
              "      <td>8.0500</td>\n",
              "      <td>0</td>\n",
              "      <td>1</td>\n",
              "      <td>1</td>\n",
              "    </tr>\n",
              "    <tr>\n",
              "      <th>5</th>\n",
              "      <td>6</td>\n",
              "      <td>0</td>\n",
              "      <td>3</td>\n",
              "      <td>1</td>\n",
              "      <td>41.0</td>\n",
              "      <td>8.4583</td>\n",
              "      <td>2</td>\n",
              "      <td>1</td>\n",
              "      <td>1</td>\n",
              "    </tr>\n",
              "    <tr>\n",
              "      <th>6</th>\n",
              "      <td>7</td>\n",
              "      <td>0</td>\n",
              "      <td>1</td>\n",
              "      <td>1</td>\n",
              "      <td>54.0</td>\n",
              "      <td>51.8625</td>\n",
              "      <td>0</td>\n",
              "      <td>1</td>\n",
              "      <td>1</td>\n",
              "    </tr>\n",
              "    <tr>\n",
              "      <th>7</th>\n",
              "      <td>8</td>\n",
              "      <td>0</td>\n",
              "      <td>3</td>\n",
              "      <td>1</td>\n",
              "      <td>2.0</td>\n",
              "      <td>21.0750</td>\n",
              "      <td>0</td>\n",
              "      <td>0</td>\n",
              "      <td>4</td>\n",
              "    </tr>\n",
              "    <tr>\n",
              "      <th>8</th>\n",
              "      <td>9</td>\n",
              "      <td>1</td>\n",
              "      <td>3</td>\n",
              "      <td>0</td>\n",
              "      <td>27.0</td>\n",
              "      <td>11.1333</td>\n",
              "      <td>0</td>\n",
              "      <td>0</td>\n",
              "      <td>3</td>\n",
              "    </tr>\n",
              "    <tr>\n",
              "      <th>9</th>\n",
              "      <td>10</td>\n",
              "      <td>1</td>\n",
              "      <td>2</td>\n",
              "      <td>0</td>\n",
              "      <td>14.0</td>\n",
              "      <td>30.0708</td>\n",
              "      <td>1</td>\n",
              "      <td>0</td>\n",
              "      <td>3</td>\n",
              "    </tr>\n",
              "  </tbody>\n",
              "</table>\n",
              "</div>\n",
              "      <button class=\"colab-df-convert\" onclick=\"convertToInteractive('df-e5824afd-d782-4b49-af64-9c5c1cbcfc02')\"\n",
              "              title=\"Convert this dataframe to an interactive table.\"\n",
              "              style=\"display:none;\">\n",
              "        \n",
              "  <svg xmlns=\"http://www.w3.org/2000/svg\" height=\"24px\"viewBox=\"0 0 24 24\"\n",
              "       width=\"24px\">\n",
              "    <path d=\"M0 0h24v24H0V0z\" fill=\"none\"/>\n",
              "    <path d=\"M18.56 5.44l.94 2.06.94-2.06 2.06-.94-2.06-.94-.94-2.06-.94 2.06-2.06.94zm-11 1L8.5 8.5l.94-2.06 2.06-.94-2.06-.94L8.5 2.5l-.94 2.06-2.06.94zm10 10l.94 2.06.94-2.06 2.06-.94-2.06-.94-.94-2.06-.94 2.06-2.06.94z\"/><path d=\"M17.41 7.96l-1.37-1.37c-.4-.4-.92-.59-1.43-.59-.52 0-1.04.2-1.43.59L10.3 9.45l-7.72 7.72c-.78.78-.78 2.05 0 2.83L4 21.41c.39.39.9.59 1.41.59.51 0 1.02-.2 1.41-.59l7.78-7.78 2.81-2.81c.8-.78.8-2.07 0-2.86zM5.41 20L4 18.59l7.72-7.72 1.47 1.35L5.41 20z\"/>\n",
              "  </svg>\n",
              "      </button>\n",
              "      \n",
              "  <style>\n",
              "    .colab-df-container {\n",
              "      display:flex;\n",
              "      flex-wrap:wrap;\n",
              "      gap: 12px;\n",
              "    }\n",
              "\n",
              "    .colab-df-convert {\n",
              "      background-color: #E8F0FE;\n",
              "      border: none;\n",
              "      border-radius: 50%;\n",
              "      cursor: pointer;\n",
              "      display: none;\n",
              "      fill: #1967D2;\n",
              "      height: 32px;\n",
              "      padding: 0 0 0 0;\n",
              "      width: 32px;\n",
              "    }\n",
              "\n",
              "    .colab-df-convert:hover {\n",
              "      background-color: #E2EBFA;\n",
              "      box-shadow: 0px 1px 2px rgba(60, 64, 67, 0.3), 0px 1px 3px 1px rgba(60, 64, 67, 0.15);\n",
              "      fill: #174EA6;\n",
              "    }\n",
              "\n",
              "    [theme=dark] .colab-df-convert {\n",
              "      background-color: #3B4455;\n",
              "      fill: #D2E3FC;\n",
              "    }\n",
              "\n",
              "    [theme=dark] .colab-df-convert:hover {\n",
              "      background-color: #434B5C;\n",
              "      box-shadow: 0px 1px 3px 1px rgba(0, 0, 0, 0.15);\n",
              "      filter: drop-shadow(0px 1px 2px rgba(0, 0, 0, 0.3));\n",
              "      fill: #FFFFFF;\n",
              "    }\n",
              "  </style>\n",
              "\n",
              "      <script>\n",
              "        const buttonEl =\n",
              "          document.querySelector('#df-e5824afd-d782-4b49-af64-9c5c1cbcfc02 button.colab-df-convert');\n",
              "        buttonEl.style.display =\n",
              "          google.colab.kernel.accessAllowed ? 'block' : 'none';\n",
              "\n",
              "        async function convertToInteractive(key) {\n",
              "          const element = document.querySelector('#df-e5824afd-d782-4b49-af64-9c5c1cbcfc02');\n",
              "          const dataTable =\n",
              "            await google.colab.kernel.invokeFunction('convertToInteractive',\n",
              "                                                     [key], {});\n",
              "          if (!dataTable) return;\n",
              "\n",
              "          const docLinkHtml = 'Like what you see? Visit the ' +\n",
              "            '<a target=\"_blank\" href=https://colab.research.google.com/notebooks/data_table.ipynb>data table notebook</a>'\n",
              "            + ' to learn more about interactive tables.';\n",
              "          element.innerHTML = '';\n",
              "          dataTable['output_type'] = 'display_data';\n",
              "          await google.colab.output.renderOutput(dataTable, element);\n",
              "          const docLink = document.createElement('div');\n",
              "          docLink.innerHTML = docLinkHtml;\n",
              "          element.appendChild(docLink);\n",
              "        }\n",
              "      </script>\n",
              "    </div>\n",
              "  </div>\n",
              "  "
            ]
          },
          "metadata": {},
          "execution_count": 54
        }
      ],
      "source": [
        "dataframe_train= pd.read_csv('/content/train_clean.csv')\n",
        "dataframe_train.head(10)"
      ]
    },
    {
      "cell_type": "markdown",
      "metadata": {
        "id": "__uaZLIqCAhW"
      },
      "source": [
        "1.2 Lire le Dataframe test (sans le champs Survived) dans les fichiers test_clean.csv. Afficher les 10 premières lignes."
      ]
    },
    {
      "cell_type": "code",
      "execution_count": 55,
      "metadata": {
        "id": "rDnkhpHvCAhX",
        "outputId": "5838d45f-8784-4004-9d1e-9bcf3dedee2e",
        "colab": {
          "base_uri": "https://localhost:8080/",
          "height": 363
        }
      },
      "outputs": [
        {
          "output_type": "execute_result",
          "data": {
            "text/plain": [
              "   PassengerId  Pclass  Sex   Age     Fare  Embarked  IsAlone  Title\n",
              "0          892       3    1  34.5   7.8292         2        1      1\n",
              "1          893       3    0  47.0   7.0000         0        0      3\n",
              "2          894       2    1  62.0   9.6875         2        1      1\n",
              "3          895       3    1  27.0   8.6625         0        1      1\n",
              "4          896       3    0  22.0  12.2875         0        0      3\n",
              "5          897       3    1  14.0   9.2250         0        1      1\n",
              "6          898       3    0  30.0   7.6292         2        1      2\n",
              "7          899       2    1  26.0  29.0000         0        0      1\n",
              "8          900       3    0  18.0   7.2292         1        1      3\n",
              "9          901       3    1  21.0  24.1500         0        0      1"
            ],
            "text/html": [
              "\n",
              "  <div id=\"df-83785b15-1c74-4731-8c0d-504291b3f38f\">\n",
              "    <div class=\"colab-df-container\">\n",
              "      <div>\n",
              "<style scoped>\n",
              "    .dataframe tbody tr th:only-of-type {\n",
              "        vertical-align: middle;\n",
              "    }\n",
              "\n",
              "    .dataframe tbody tr th {\n",
              "        vertical-align: top;\n",
              "    }\n",
              "\n",
              "    .dataframe thead th {\n",
              "        text-align: right;\n",
              "    }\n",
              "</style>\n",
              "<table border=\"1\" class=\"dataframe\">\n",
              "  <thead>\n",
              "    <tr style=\"text-align: right;\">\n",
              "      <th></th>\n",
              "      <th>PassengerId</th>\n",
              "      <th>Pclass</th>\n",
              "      <th>Sex</th>\n",
              "      <th>Age</th>\n",
              "      <th>Fare</th>\n",
              "      <th>Embarked</th>\n",
              "      <th>IsAlone</th>\n",
              "      <th>Title</th>\n",
              "    </tr>\n",
              "  </thead>\n",
              "  <tbody>\n",
              "    <tr>\n",
              "      <th>0</th>\n",
              "      <td>892</td>\n",
              "      <td>3</td>\n",
              "      <td>1</td>\n",
              "      <td>34.5</td>\n",
              "      <td>7.8292</td>\n",
              "      <td>2</td>\n",
              "      <td>1</td>\n",
              "      <td>1</td>\n",
              "    </tr>\n",
              "    <tr>\n",
              "      <th>1</th>\n",
              "      <td>893</td>\n",
              "      <td>3</td>\n",
              "      <td>0</td>\n",
              "      <td>47.0</td>\n",
              "      <td>7.0000</td>\n",
              "      <td>0</td>\n",
              "      <td>0</td>\n",
              "      <td>3</td>\n",
              "    </tr>\n",
              "    <tr>\n",
              "      <th>2</th>\n",
              "      <td>894</td>\n",
              "      <td>2</td>\n",
              "      <td>1</td>\n",
              "      <td>62.0</td>\n",
              "      <td>9.6875</td>\n",
              "      <td>2</td>\n",
              "      <td>1</td>\n",
              "      <td>1</td>\n",
              "    </tr>\n",
              "    <tr>\n",
              "      <th>3</th>\n",
              "      <td>895</td>\n",
              "      <td>3</td>\n",
              "      <td>1</td>\n",
              "      <td>27.0</td>\n",
              "      <td>8.6625</td>\n",
              "      <td>0</td>\n",
              "      <td>1</td>\n",
              "      <td>1</td>\n",
              "    </tr>\n",
              "    <tr>\n",
              "      <th>4</th>\n",
              "      <td>896</td>\n",
              "      <td>3</td>\n",
              "      <td>0</td>\n",
              "      <td>22.0</td>\n",
              "      <td>12.2875</td>\n",
              "      <td>0</td>\n",
              "      <td>0</td>\n",
              "      <td>3</td>\n",
              "    </tr>\n",
              "    <tr>\n",
              "      <th>5</th>\n",
              "      <td>897</td>\n",
              "      <td>3</td>\n",
              "      <td>1</td>\n",
              "      <td>14.0</td>\n",
              "      <td>9.2250</td>\n",
              "      <td>0</td>\n",
              "      <td>1</td>\n",
              "      <td>1</td>\n",
              "    </tr>\n",
              "    <tr>\n",
              "      <th>6</th>\n",
              "      <td>898</td>\n",
              "      <td>3</td>\n",
              "      <td>0</td>\n",
              "      <td>30.0</td>\n",
              "      <td>7.6292</td>\n",
              "      <td>2</td>\n",
              "      <td>1</td>\n",
              "      <td>2</td>\n",
              "    </tr>\n",
              "    <tr>\n",
              "      <th>7</th>\n",
              "      <td>899</td>\n",
              "      <td>2</td>\n",
              "      <td>1</td>\n",
              "      <td>26.0</td>\n",
              "      <td>29.0000</td>\n",
              "      <td>0</td>\n",
              "      <td>0</td>\n",
              "      <td>1</td>\n",
              "    </tr>\n",
              "    <tr>\n",
              "      <th>8</th>\n",
              "      <td>900</td>\n",
              "      <td>3</td>\n",
              "      <td>0</td>\n",
              "      <td>18.0</td>\n",
              "      <td>7.2292</td>\n",
              "      <td>1</td>\n",
              "      <td>1</td>\n",
              "      <td>3</td>\n",
              "    </tr>\n",
              "    <tr>\n",
              "      <th>9</th>\n",
              "      <td>901</td>\n",
              "      <td>3</td>\n",
              "      <td>1</td>\n",
              "      <td>21.0</td>\n",
              "      <td>24.1500</td>\n",
              "      <td>0</td>\n",
              "      <td>0</td>\n",
              "      <td>1</td>\n",
              "    </tr>\n",
              "  </tbody>\n",
              "</table>\n",
              "</div>\n",
              "      <button class=\"colab-df-convert\" onclick=\"convertToInteractive('df-83785b15-1c74-4731-8c0d-504291b3f38f')\"\n",
              "              title=\"Convert this dataframe to an interactive table.\"\n",
              "              style=\"display:none;\">\n",
              "        \n",
              "  <svg xmlns=\"http://www.w3.org/2000/svg\" height=\"24px\"viewBox=\"0 0 24 24\"\n",
              "       width=\"24px\">\n",
              "    <path d=\"M0 0h24v24H0V0z\" fill=\"none\"/>\n",
              "    <path d=\"M18.56 5.44l.94 2.06.94-2.06 2.06-.94-2.06-.94-.94-2.06-.94 2.06-2.06.94zm-11 1L8.5 8.5l.94-2.06 2.06-.94-2.06-.94L8.5 2.5l-.94 2.06-2.06.94zm10 10l.94 2.06.94-2.06 2.06-.94-2.06-.94-.94-2.06-.94 2.06-2.06.94z\"/><path d=\"M17.41 7.96l-1.37-1.37c-.4-.4-.92-.59-1.43-.59-.52 0-1.04.2-1.43.59L10.3 9.45l-7.72 7.72c-.78.78-.78 2.05 0 2.83L4 21.41c.39.39.9.59 1.41.59.51 0 1.02-.2 1.41-.59l7.78-7.78 2.81-2.81c.8-.78.8-2.07 0-2.86zM5.41 20L4 18.59l7.72-7.72 1.47 1.35L5.41 20z\"/>\n",
              "  </svg>\n",
              "      </button>\n",
              "      \n",
              "  <style>\n",
              "    .colab-df-container {\n",
              "      display:flex;\n",
              "      flex-wrap:wrap;\n",
              "      gap: 12px;\n",
              "    }\n",
              "\n",
              "    .colab-df-convert {\n",
              "      background-color: #E8F0FE;\n",
              "      border: none;\n",
              "      border-radius: 50%;\n",
              "      cursor: pointer;\n",
              "      display: none;\n",
              "      fill: #1967D2;\n",
              "      height: 32px;\n",
              "      padding: 0 0 0 0;\n",
              "      width: 32px;\n",
              "    }\n",
              "\n",
              "    .colab-df-convert:hover {\n",
              "      background-color: #E2EBFA;\n",
              "      box-shadow: 0px 1px 2px rgba(60, 64, 67, 0.3), 0px 1px 3px 1px rgba(60, 64, 67, 0.15);\n",
              "      fill: #174EA6;\n",
              "    }\n",
              "\n",
              "    [theme=dark] .colab-df-convert {\n",
              "      background-color: #3B4455;\n",
              "      fill: #D2E3FC;\n",
              "    }\n",
              "\n",
              "    [theme=dark] .colab-df-convert:hover {\n",
              "      background-color: #434B5C;\n",
              "      box-shadow: 0px 1px 3px 1px rgba(0, 0, 0, 0.15);\n",
              "      filter: drop-shadow(0px 1px 2px rgba(0, 0, 0, 0.3));\n",
              "      fill: #FFFFFF;\n",
              "    }\n",
              "  </style>\n",
              "\n",
              "      <script>\n",
              "        const buttonEl =\n",
              "          document.querySelector('#df-83785b15-1c74-4731-8c0d-504291b3f38f button.colab-df-convert');\n",
              "        buttonEl.style.display =\n",
              "          google.colab.kernel.accessAllowed ? 'block' : 'none';\n",
              "\n",
              "        async function convertToInteractive(key) {\n",
              "          const element = document.querySelector('#df-83785b15-1c74-4731-8c0d-504291b3f38f');\n",
              "          const dataTable =\n",
              "            await google.colab.kernel.invokeFunction('convertToInteractive',\n",
              "                                                     [key], {});\n",
              "          if (!dataTable) return;\n",
              "\n",
              "          const docLinkHtml = 'Like what you see? Visit the ' +\n",
              "            '<a target=\"_blank\" href=https://colab.research.google.com/notebooks/data_table.ipynb>data table notebook</a>'\n",
              "            + ' to learn more about interactive tables.';\n",
              "          element.innerHTML = '';\n",
              "          dataTable['output_type'] = 'display_data';\n",
              "          await google.colab.output.renderOutput(dataTable, element);\n",
              "          const docLink = document.createElement('div');\n",
              "          docLink.innerHTML = docLinkHtml;\n",
              "          element.appendChild(docLink);\n",
              "        }\n",
              "      </script>\n",
              "    </div>\n",
              "  </div>\n",
              "  "
            ]
          },
          "metadata": {},
          "execution_count": 55
        }
      ],
      "source": [
        "dataframe_test= pd.read_csv('/content/test_clean.csv')\n",
        "dataframe_test.head(10)"
      ]
    },
    {
      "cell_type": "markdown",
      "metadata": {
        "id": "9NQ7Ci3oCAhX"
      },
      "source": [
        "##  Préparation des données de Training"
      ]
    },
    {
      "cell_type": "markdown",
      "metadata": {
        "id": "OgsQP7m1CAhY"
      },
      "source": [
        "1.3 Charger les features d'apprentissage dans un array numpy X_alltrain. Afficher le type de X_alltrain les 10 premières lignes."
      ]
    },
    {
      "cell_type": "code",
      "execution_count": 56,
      "metadata": {
        "id": "8ozhJc0pCAhZ",
        "outputId": "c4d85b01-6bde-4f5f-86cc-d4fff9cf540b",
        "colab": {
          "base_uri": "https://localhost:8080/"
        }
      },
      "outputs": [
        {
          "output_type": "stream",
          "name": "stdout",
          "text": [
            "[[ 3.      1.     22.      7.25    0.      0.      1.    ]\n",
            " [ 1.      0.     38.     71.2833  1.      0.      3.    ]\n",
            " [ 3.      0.     26.      7.925   0.      1.      2.    ]\n",
            " [ 1.      0.     35.     53.1     0.      0.      3.    ]\n",
            " [ 3.      1.     35.      8.05    0.      1.      1.    ]\n",
            " [ 3.      1.     41.      8.4583  2.      1.      1.    ]\n",
            " [ 1.      1.     54.     51.8625  0.      1.      1.    ]\n",
            " [ 3.      1.      2.     21.075   0.      0.      4.    ]\n",
            " [ 3.      0.     27.     11.1333  0.      0.      3.    ]\n",
            " [ 2.      0.     14.     30.0708  1.      0.      3.    ]]\n"
          ]
        }
      ],
      "source": [
        "X_alltrain = dataframe_train.drop(['Survived', 'PassengerId'], axis=1).values\n",
        "\n",
        "type(X_alltrain)\n",
        "\n",
        "print(X_alltrain[:10])"
      ]
    },
    {
      "cell_type": "markdown",
      "metadata": {
        "id": "cs6h-t4KCAhZ"
      },
      "source": [
        "1.4 Charger les labels dans un array numpy y_alltrain. Afficher les 10 premières lignes."
      ]
    },
    {
      "cell_type": "code",
      "execution_count": 57,
      "metadata": {
        "id": "Aq8kDyY4CAha",
        "outputId": "50b372b3-22e2-4bc6-b044-3ace97ff39d2",
        "colab": {
          "base_uri": "https://localhost:8080/"
        }
      },
      "outputs": [
        {
          "output_type": "stream",
          "name": "stdout",
          "text": [
            "[0 1 1 1 0 0 0 0 1 1]\n"
          ]
        }
      ],
      "source": [
        "y_alltrain = dataframe_train['Survived'].values\n",
        "\n",
        "print(y_alltrain[:10])"
      ]
    },
    {
      "cell_type": "markdown",
      "metadata": {
        "id": "c9YaUd0eCAhb"
      },
      "source": [
        "1.5 Séparer les features et les labels en deux parties (train et dev). afficher les nombres de lignes et de colonnes pour les 4 arrays."
      ]
    },
    {
      "cell_type": "code",
      "execution_count": 58,
      "metadata": {
        "id": "OywbhibaCAhc",
        "outputId": "80c34ffe-f8d0-48a7-ed51-0291f5380ccc",
        "colab": {
          "base_uri": "https://localhost:8080/"
        }
      },
      "outputs": [
        {
          "output_type": "stream",
          "name": "stdout",
          "text": [
            "La taille de X_train est : (712, 7)\n",
            "La taille de y_train est  : (712,)\n",
            "La taille de X_dev est : (179, 7)\n",
            "La taille de y_dev est : (179,)\n"
          ]
        }
      ],
      "source": [
        "X_train, X_dev, y_train, y_dev = train_test_split(X_alltrain, y_alltrain, test_size=0.2, random_state=1)\n",
        "\n",
        "print(\"La taille de X_train est :\", X_train.shape)\n",
        "print(\"La taille de y_train est  :\", y_train.shape)\n",
        "print(\"La taille de X_dev est :\", X_dev.shape)\n",
        "print(\"La taille de y_dev est :\", y_dev.shape)"
      ]
    },
    {
      "cell_type": "markdown",
      "metadata": {
        "id": "Rd8-bRS2CAhd"
      },
      "source": [
        "1.6 Afficher les noms des features."
      ]
    },
    {
      "cell_type": "code",
      "execution_count": 59,
      "metadata": {
        "id": "h6zGwPo1CAhf",
        "outputId": "0ac0084e-b86d-474a-c84c-a749bd740d75",
        "colab": {
          "base_uri": "https://localhost:8080/"
        }
      },
      "outputs": [
        {
          "output_type": "execute_result",
          "data": {
            "text/plain": [
              "['Pclass', 'Sex', 'Age', 'Fare', 'Embarked', 'IsAlone', 'Title']"
            ]
          },
          "metadata": {},
          "execution_count": 59
        }
      ],
      "source": [
        "feature_names = dataframe_train.columns.drop(['Survived', 'PassengerId']).tolist()\n",
        "feature_names"
      ]
    },
    {
      "cell_type": "markdown",
      "metadata": {
        "id": "R98Cjkn9CAhf"
      },
      "source": [
        "## Fonction Utilitaires"
      ]
    },
    {
      "cell_type": "code",
      "execution_count": null,
      "metadata": {
        "id": "ja38dRTZCAhg"
      },
      "outputs": [],
      "source": [
        "# Fonctions permettant de générer le fichier d'envoi à Kaggle\n",
        "#parametres: Classifiers; Données à calculer ; index)\n",
        "\n",
        "def generer_resultats(clf,df_test=test):\n",
        "    \"\"\"\n",
        "    Fonctions permettant de générer le fichier d'envoi à Kaggle.\n",
        "    On passe un classifier sur lequel on refait le training avec toutes les données de training\n",
        "    \n",
        "    Parameters\n",
        "    ----------\n",
        "    Classifiers : Classifier utilisé pour la prédiction\n",
        "    data : Données à calculer. par défaut, les valeurs du dataset \"test\"\n",
        "    idx : Index des passagers testés. Stockés dans finalfile_index lors de la lecture des données\n",
        "    \"\"\"    \n",
        "    data = df_test.iloc[:,1:].values\n",
        "    idx = df_test.PassengerId\n",
        "    print(clf.get_params())\n",
        "    clf.fit(X_alltrain, y_alltrain)\n",
        "    prediction=clf.predict(data)\n",
        "    results=pd.DataFrame(prediction.astype(int), index = df_test.PassengerId, columns=['Survived'])\n",
        "    results.to_csv('resultats%s.csv'%clf.__class__.__name__)\n",
        "    \n",
        "#Fonction pour l'affichage 2 D des résultats    \n",
        "\n",
        "def plot_decision_boundary(clf,X,y, axes=[0, 85, 0, 300], axis_name=['x1','x2'],alpha=0.5, contour=True):\n",
        "    \"\"\"\n",
        "    Fonction pour l'affichage 2 D des résultats   \n",
        "    \n",
        "    Parameters\n",
        "    ----------\n",
        "    clf : Classifier à afficher\n",
        "    X : features de Données a afficher\n",
        "    y : labels de Données a afficher  \n",
        "    axes : : Tailles des axes (valeur min/max)\n",
        "    axis_name : Nom des axes sur le graphique\n",
        "    alpha : Transparence des points\n",
        "    contour : Afichage du contour\n",
        "    \"\"\"     \n",
        "    x1s = np.linspace(axes[0], axes[1], 100)\n",
        "    x2s = np.linspace(axes[2], axes[3], 100)\n",
        "    x1, x2 = np.meshgrid(x1s, x2s)\n",
        "    X_new = np.c_[x1.ravel(), x2.ravel()]\n",
        "    y_pred = clf.predict(X_new).reshape(x1.shape)\n",
        "    custom_cmap = ListedColormap(['#fafab0','#9898ff','#a0faa0'])\n",
        "    plt.contourf(x1, x2, y_pred, alpha=0.3, cmap=custom_cmap)\n",
        "    if contour:\n",
        "        custom_cmap2 = ListedColormap(['#7d7d58','#4c4c7f','#507d50'])\n",
        "        plt.contour(x1, x2, y_pred, cmap=custom_cmap2, alpha=0.8)\n",
        "    \n",
        "\n",
        "    df_X_y = pd.concat([pd.DataFrame(X,columns=['f1','f2']),pd.DataFrame(y,columns=['label'])],axis=1)\n",
        "    plt.plot(\n",
        "        df_X_y.loc[df_X_y.label==0,'f1'].values, \n",
        "        df_X_y.loc[df_X_y.label==0,'f2'].values, \n",
        "        \"ro\", label=\"Disparu\", \n",
        "        alpha=alpha\n",
        "        ) \n",
        "    plt.plot(\n",
        "        df_X_y.loc[df_X_y.label==1,'f1'].values, \n",
        "        df_X_y.loc[df_X_y.label==1,'f2'].values, \n",
        "        \"gs\", label=\"Rescapé\", \n",
        "        alpha=alpha\n",
        "        ) \n",
        "\n",
        "    plt.axis(axes)\n",
        "    plt.xlabel(axis_name[0], fontsize=18)\n",
        "    plt.ylabel(axis_name[1]+ \"  \",fontsize=18, rotation=0)   \n",
        "    plt.legend(loc=\"lower right\", fontsize=14)"
      ]
    },
    {
      "cell_type": "markdown",
      "metadata": {
        "id": "3_ath9HLCAhi"
      },
      "source": [
        "## Exercice 2 : Arbre de Décision\n",
        "2.1 En utilisant l'exemple 1, contruisez et entrainez un arbre de décision pour prévoir la survie. <br>"
      ]
    },
    {
      "cell_type": "code",
      "execution_count": 60,
      "metadata": {
        "id": "k1tVg7BmCAhj",
        "outputId": "4cc9a7c0-deca-470d-bf91-209d7c9fe49f",
        "colab": {
          "base_uri": "https://localhost:8080/",
          "height": 74
        }
      },
      "outputs": [
        {
          "output_type": "execute_result",
          "data": {
            "text/plain": [
              "DecisionTreeClassifier(random_state=42)"
            ],
            "text/html": [
              "<style>#sk-container-id-11 {color: black;background-color: white;}#sk-container-id-11 pre{padding: 0;}#sk-container-id-11 div.sk-toggleable {background-color: white;}#sk-container-id-11 label.sk-toggleable__label {cursor: pointer;display: block;width: 100%;margin-bottom: 0;padding: 0.3em;box-sizing: border-box;text-align: center;}#sk-container-id-11 label.sk-toggleable__label-arrow:before {content: \"▸\";float: left;margin-right: 0.25em;color: #696969;}#sk-container-id-11 label.sk-toggleable__label-arrow:hover:before {color: black;}#sk-container-id-11 div.sk-estimator:hover label.sk-toggleable__label-arrow:before {color: black;}#sk-container-id-11 div.sk-toggleable__content {max-height: 0;max-width: 0;overflow: hidden;text-align: left;background-color: #f0f8ff;}#sk-container-id-11 div.sk-toggleable__content pre {margin: 0.2em;color: black;border-radius: 0.25em;background-color: #f0f8ff;}#sk-container-id-11 input.sk-toggleable__control:checked~div.sk-toggleable__content {max-height: 200px;max-width: 100%;overflow: auto;}#sk-container-id-11 input.sk-toggleable__control:checked~label.sk-toggleable__label-arrow:before {content: \"▾\";}#sk-container-id-11 div.sk-estimator input.sk-toggleable__control:checked~label.sk-toggleable__label {background-color: #d4ebff;}#sk-container-id-11 div.sk-label input.sk-toggleable__control:checked~label.sk-toggleable__label {background-color: #d4ebff;}#sk-container-id-11 input.sk-hidden--visually {border: 0;clip: rect(1px 1px 1px 1px);clip: rect(1px, 1px, 1px, 1px);height: 1px;margin: -1px;overflow: hidden;padding: 0;position: absolute;width: 1px;}#sk-container-id-11 div.sk-estimator {font-family: monospace;background-color: #f0f8ff;border: 1px dotted black;border-radius: 0.25em;box-sizing: border-box;margin-bottom: 0.5em;}#sk-container-id-11 div.sk-estimator:hover {background-color: #d4ebff;}#sk-container-id-11 div.sk-parallel-item::after {content: \"\";width: 100%;border-bottom: 1px solid gray;flex-grow: 1;}#sk-container-id-11 div.sk-label:hover label.sk-toggleable__label {background-color: #d4ebff;}#sk-container-id-11 div.sk-serial::before {content: \"\";position: absolute;border-left: 1px solid gray;box-sizing: border-box;top: 0;bottom: 0;left: 50%;z-index: 0;}#sk-container-id-11 div.sk-serial {display: flex;flex-direction: column;align-items: center;background-color: white;padding-right: 0.2em;padding-left: 0.2em;position: relative;}#sk-container-id-11 div.sk-item {position: relative;z-index: 1;}#sk-container-id-11 div.sk-parallel {display: flex;align-items: stretch;justify-content: center;background-color: white;position: relative;}#sk-container-id-11 div.sk-item::before, #sk-container-id-11 div.sk-parallel-item::before {content: \"\";position: absolute;border-left: 1px solid gray;box-sizing: border-box;top: 0;bottom: 0;left: 50%;z-index: -1;}#sk-container-id-11 div.sk-parallel-item {display: flex;flex-direction: column;z-index: 1;position: relative;background-color: white;}#sk-container-id-11 div.sk-parallel-item:first-child::after {align-self: flex-end;width: 50%;}#sk-container-id-11 div.sk-parallel-item:last-child::after {align-self: flex-start;width: 50%;}#sk-container-id-11 div.sk-parallel-item:only-child::after {width: 0;}#sk-container-id-11 div.sk-dashed-wrapped {border: 1px dashed gray;margin: 0 0.4em 0.5em 0.4em;box-sizing: border-box;padding-bottom: 0.4em;background-color: white;}#sk-container-id-11 div.sk-label label {font-family: monospace;font-weight: bold;display: inline-block;line-height: 1.2em;}#sk-container-id-11 div.sk-label-container {text-align: center;}#sk-container-id-11 div.sk-container {/* jupyter's `normalize.less` sets `[hidden] { display: none; }` but bootstrap.min.css set `[hidden] { display: none !important; }` so we also need the `!important` here to be able to override the default hidden behavior on the sphinx rendered scikit-learn.org. See: https://github.com/scikit-learn/scikit-learn/issues/21755 */display: inline-block !important;position: relative;}#sk-container-id-11 div.sk-text-repr-fallback {display: none;}</style><div id=\"sk-container-id-11\" class=\"sk-top-container\"><div class=\"sk-text-repr-fallback\"><pre>DecisionTreeClassifier(random_state=42)</pre><b>In a Jupyter environment, please rerun this cell to show the HTML representation or trust the notebook. <br />On GitHub, the HTML representation is unable to render, please try loading this page with nbviewer.org.</b></div><div class=\"sk-container\" hidden><div class=\"sk-item\"><div class=\"sk-estimator sk-toggleable\"><input class=\"sk-toggleable__control sk-hidden--visually\" id=\"sk-estimator-id-11\" type=\"checkbox\" checked><label for=\"sk-estimator-id-11\" class=\"sk-toggleable__label sk-toggleable__label-arrow\">DecisionTreeClassifier</label><div class=\"sk-toggleable__content\"><pre>DecisionTreeClassifier(random_state=42)</pre></div></div></div></div></div>"
            ]
          },
          "metadata": {},
          "execution_count": 60
        }
      ],
      "source": [
        "# Créer un classifieur d'arbre de décision avec les paramètres par défaut\n",
        "tree_clf = DecisionTreeClassifier(random_state=42)\n",
        "\n",
        "# Entraîner l'arbre de décision sur les données d'apprentissage\n",
        "tree_clf.fit(X_train, y_train)"
      ]
    },
    {
      "cell_type": "markdown",
      "metadata": {
        "id": "jVcyqag2CAhk"
      },
      "source": [
        "2.2 Appliquer le modèle sur vos données de dev"
      ]
    },
    {
      "cell_type": "code",
      "execution_count": 61,
      "metadata": {
        "id": "sPoSVVQFCAhk",
        "outputId": "793e5541-e695-47e1-8411-7d4791716edd",
        "colab": {
          "base_uri": "https://localhost:8080/"
        }
      },
      "outputs": [
        {
          "output_type": "stream",
          "name": "stdout",
          "text": [
            "Score sur les données de développement : 76.54%\n"
          ]
        }
      ],
      "source": [
        "# Prédire les labels pour les données de développement\n",
        "y_dev_pred = tree_clf.predict(X_dev)\n",
        "\n",
        "# Afficher le score d'exactitude sur les données de développement\n",
        "print(\"Score sur les données de développement : {:.2f}%\".format(accuracy_score(y_dev, y_dev_pred)*100))"
      ]
    },
    {
      "cell_type": "markdown",
      "metadata": {
        "id": "_DvFs_lECAhl"
      },
      "source": [
        "2.3 : Essayez plusieurs valeurs pour max_depth et garder le meilleur résultat\n",
        "Vous pouvez aussi tester d'autres paramètres disponible sur https://scikit-learn.org/stable/modules/generated/sklearn.tree.DecisionTreeClassifier.html?highlight=decisiontreeclassifier#sklearn.tree.DecisionTreeClassifier"
      ]
    },
    {
      "cell_type": "code",
      "source": [
        "# Initialiser les variables pour stocker les meilleurs résultats\n",
        "best_score = 0\n",
        "best_depth = None\n",
        "\n",
        "# Boucle sur les différentes valeurs de max_depth\n",
        "for depth in range(1,17):\n",
        "    \n",
        "    # Créer un classifieur d'arbre de décision avec la valeur actuelle de max_depth\n",
        "    tree_clf = DecisionTreeClassifier(max_depth=depth, random_state=42)\n",
        "    \n",
        "    # Entraîner l'arbre de décision sur les données d'apprentissage\n",
        "    tree_clf.fit(X_train, y_train)\n",
        "    \n",
        "    # Prédire les labels pour les données de développement\n",
        "    y_dev_pred = tree_clf.predict(X_dev)\n",
        "\n",
        "    # Calculer le score d'exactitude pour les données de développement\n",
        "    score = accuracy_score(y_dev, y_dev_pred)\n",
        "    \n",
        "    # Afficher le score pour la valeur actuelle de max_depth\n",
        "    print(\"max_depth = {}, Score sur les données de développement : {:.2f}%\".format(depth, score*100))\n",
        "    \n",
        "    # Mettre à jour les variables pour stocker le meilleur résultat\n",
        "    if score > best_score:\n",
        "        best_score = score\n",
        "        best_depth = depth\n",
        "\n",
        "# Afficher la meilleure valeur de max_depth et son score correspondant\n",
        "print(\"Meilleure valeur de max_depth : {}, Score correspondant sur les données de développement : {:.2f}%\".format(best_depth, best_score*100))\n",
        "\n",
        "# Créer un classifieur d'arbre de décision avec la valeur actuelle de max_depth\n",
        "tree_clf = DecisionTreeClassifier(max_depth=best_depth,max_leaf_nodes=8,splitter=\"random\")\n",
        "    \n",
        "# Entraîner l'arbre de décision sur les données d'apprentissage\n",
        "tree_clf.fit(X_train, y_train)"
      ],
      "metadata": {
        "id": "LUx4uD3Mgjyn",
        "outputId": "0e655e6d-6ef2-4f88-d147-fcd3aeaa76e5",
        "colab": {
          "base_uri": "https://localhost:8080/",
          "height": 369
        }
      },
      "execution_count": 62,
      "outputs": [
        {
          "output_type": "stream",
          "name": "stdout",
          "text": [
            "max_depth = 1, Score sur les données de développement : 74.30%\n",
            "max_depth = 2, Score sur les données de développement : 73.74%\n",
            "max_depth = 3, Score sur les données de développement : 80.45%\n",
            "max_depth = 4, Score sur les données de développement : 80.45%\n",
            "max_depth = 5, Score sur les données de développement : 78.21%\n",
            "max_depth = 6, Score sur les données de développement : 76.54%\n",
            "max_depth = 7, Score sur les données de développement : 79.33%\n",
            "max_depth = 8, Score sur les données de développement : 80.45%\n",
            "max_depth = 9, Score sur les données de développement : 79.33%\n",
            "max_depth = 10, Score sur les données de développement : 79.33%\n",
            "max_depth = 11, Score sur les données de développement : 75.98%\n",
            "max_depth = 12, Score sur les données de développement : 77.65%\n",
            "max_depth = 13, Score sur les données de développement : 77.65%\n",
            "max_depth = 14, Score sur les données de développement : 77.09%\n",
            "max_depth = 15, Score sur les données de développement : 75.98%\n",
            "max_depth = 16, Score sur les données de développement : 76.54%\n",
            "Meilleure valeur de max_depth : 3, Score correspondant sur les données de développement : 80.45%\n"
          ]
        },
        {
          "output_type": "execute_result",
          "data": {
            "text/plain": [
              "DecisionTreeClassifier(max_depth=3, max_leaf_nodes=8, splitter='random')"
            ],
            "text/html": [
              "<style>#sk-container-id-12 {color: black;background-color: white;}#sk-container-id-12 pre{padding: 0;}#sk-container-id-12 div.sk-toggleable {background-color: white;}#sk-container-id-12 label.sk-toggleable__label {cursor: pointer;display: block;width: 100%;margin-bottom: 0;padding: 0.3em;box-sizing: border-box;text-align: center;}#sk-container-id-12 label.sk-toggleable__label-arrow:before {content: \"▸\";float: left;margin-right: 0.25em;color: #696969;}#sk-container-id-12 label.sk-toggleable__label-arrow:hover:before {color: black;}#sk-container-id-12 div.sk-estimator:hover label.sk-toggleable__label-arrow:before {color: black;}#sk-container-id-12 div.sk-toggleable__content {max-height: 0;max-width: 0;overflow: hidden;text-align: left;background-color: #f0f8ff;}#sk-container-id-12 div.sk-toggleable__content pre {margin: 0.2em;color: black;border-radius: 0.25em;background-color: #f0f8ff;}#sk-container-id-12 input.sk-toggleable__control:checked~div.sk-toggleable__content {max-height: 200px;max-width: 100%;overflow: auto;}#sk-container-id-12 input.sk-toggleable__control:checked~label.sk-toggleable__label-arrow:before {content: \"▾\";}#sk-container-id-12 div.sk-estimator input.sk-toggleable__control:checked~label.sk-toggleable__label {background-color: #d4ebff;}#sk-container-id-12 div.sk-label input.sk-toggleable__control:checked~label.sk-toggleable__label {background-color: #d4ebff;}#sk-container-id-12 input.sk-hidden--visually {border: 0;clip: rect(1px 1px 1px 1px);clip: rect(1px, 1px, 1px, 1px);height: 1px;margin: -1px;overflow: hidden;padding: 0;position: absolute;width: 1px;}#sk-container-id-12 div.sk-estimator {font-family: monospace;background-color: #f0f8ff;border: 1px dotted black;border-radius: 0.25em;box-sizing: border-box;margin-bottom: 0.5em;}#sk-container-id-12 div.sk-estimator:hover {background-color: #d4ebff;}#sk-container-id-12 div.sk-parallel-item::after {content: \"\";width: 100%;border-bottom: 1px solid gray;flex-grow: 1;}#sk-container-id-12 div.sk-label:hover label.sk-toggleable__label {background-color: #d4ebff;}#sk-container-id-12 div.sk-serial::before {content: \"\";position: absolute;border-left: 1px solid gray;box-sizing: border-box;top: 0;bottom: 0;left: 50%;z-index: 0;}#sk-container-id-12 div.sk-serial {display: flex;flex-direction: column;align-items: center;background-color: white;padding-right: 0.2em;padding-left: 0.2em;position: relative;}#sk-container-id-12 div.sk-item {position: relative;z-index: 1;}#sk-container-id-12 div.sk-parallel {display: flex;align-items: stretch;justify-content: center;background-color: white;position: relative;}#sk-container-id-12 div.sk-item::before, #sk-container-id-12 div.sk-parallel-item::before {content: \"\";position: absolute;border-left: 1px solid gray;box-sizing: border-box;top: 0;bottom: 0;left: 50%;z-index: -1;}#sk-container-id-12 div.sk-parallel-item {display: flex;flex-direction: column;z-index: 1;position: relative;background-color: white;}#sk-container-id-12 div.sk-parallel-item:first-child::after {align-self: flex-end;width: 50%;}#sk-container-id-12 div.sk-parallel-item:last-child::after {align-self: flex-start;width: 50%;}#sk-container-id-12 div.sk-parallel-item:only-child::after {width: 0;}#sk-container-id-12 div.sk-dashed-wrapped {border: 1px dashed gray;margin: 0 0.4em 0.5em 0.4em;box-sizing: border-box;padding-bottom: 0.4em;background-color: white;}#sk-container-id-12 div.sk-label label {font-family: monospace;font-weight: bold;display: inline-block;line-height: 1.2em;}#sk-container-id-12 div.sk-label-container {text-align: center;}#sk-container-id-12 div.sk-container {/* jupyter's `normalize.less` sets `[hidden] { display: none; }` but bootstrap.min.css set `[hidden] { display: none !important; }` so we also need the `!important` here to be able to override the default hidden behavior on the sphinx rendered scikit-learn.org. See: https://github.com/scikit-learn/scikit-learn/issues/21755 */display: inline-block !important;position: relative;}#sk-container-id-12 div.sk-text-repr-fallback {display: none;}</style><div id=\"sk-container-id-12\" class=\"sk-top-container\"><div class=\"sk-text-repr-fallback\"><pre>DecisionTreeClassifier(max_depth=3, max_leaf_nodes=8, splitter=&#x27;random&#x27;)</pre><b>In a Jupyter environment, please rerun this cell to show the HTML representation or trust the notebook. <br />On GitHub, the HTML representation is unable to render, please try loading this page with nbviewer.org.</b></div><div class=\"sk-container\" hidden><div class=\"sk-item\"><div class=\"sk-estimator sk-toggleable\"><input class=\"sk-toggleable__control sk-hidden--visually\" id=\"sk-estimator-id-12\" type=\"checkbox\" checked><label for=\"sk-estimator-id-12\" class=\"sk-toggleable__label sk-toggleable__label-arrow\">DecisionTreeClassifier</label><div class=\"sk-toggleable__content\"><pre>DecisionTreeClassifier(max_depth=3, max_leaf_nodes=8, splitter=&#x27;random&#x27;)</pre></div></div></div></div></div>"
            ]
          },
          "metadata": {},
          "execution_count": 62
        }
      ]
    },
    {
      "cell_type": "markdown",
      "metadata": {
        "id": "lEkWwOSACAhl"
      },
      "source": [
        "2.4 : Affichez l'arbre"
      ]
    },
    {
      "cell_type": "code",
      "execution_count": 63,
      "metadata": {
        "id": "dOIAquBPCAhm",
        "outputId": "357bd786-1a62-40f1-b458-bc2da0696958",
        "colab": {
          "base_uri": "https://localhost:8080/",
          "height": 443
        }
      },
      "outputs": [
        {
          "output_type": "execute_result",
          "data": {
            "image/png": "[encoded data removed]",
            "text/plain": [
              "<IPython.core.display.Image object>"
            ]
          },
          "metadata": {},
          "execution_count": 63
        }
      ],
      "source": [
        "export_graphviz(\n",
        "        tree_clf,\n",
        "        out_file=\"titanic.dot\",\n",
        "        feature_names=feature_names,\n",
        "        class_names=[\"Survived\",\"Not survived\"],\n",
        "        rounded=True,\n",
        "        filled=True\n",
        "    )\n",
        "\n",
        "#appel à la fonction dot de graphwiz\n",
        "os.system(\"dot -Tpng titanic.dot -o titanic.png\") \n",
        "#Affichage de l'image créée\n",
        "Image(\"titanic.png\")"
      ]
    },
    {
      "cell_type": "markdown",
      "metadata": {
        "id": "9bcY_h4qCAhm"
      },
      "source": [
        "2.5 Générez le fichier de résultats et envoyer une soumission sur Kaggle"
      ]
    },
    {
      "cell_type": "code",
      "execution_count": 75,
      "metadata": {
        "id": "xXJM786oCAhm",
        "outputId": "8f3869fb-e122-44b2-cba0-f3cee840689b",
        "colab": {
          "base_uri": "https://localhost:8080/",
          "height": 165
        }
      },
      "outputs": [
        {
          "output_type": "error",
          "ename": "NameError",
          "evalue": "ignored",
          "traceback": [
            "\u001b[0;31m---------------------------------------------------------------------------\u001b[0m",
            "\u001b[0;31mNameError\u001b[0m                                 Traceback (most recent call last)",
            "\u001b[0;32m<ipython-input-75-1a17417b1de6>\u001b[0m in \u001b[0;36m<cell line: 1>\u001b[0;34m()\u001b[0m\n\u001b[0;32m----> 1\u001b[0;31m \u001b[0mgenerer_resultats\u001b[0m\u001b[0;34m(\u001b[0m\u001b[0mtree_clf\u001b[0m\u001b[0;34m,\u001b[0m \u001b[0mdataframe_test\u001b[0m\u001b[0;34m)\u001b[0m\u001b[0;34m\u001b[0m\u001b[0;34m\u001b[0m\u001b[0m\n\u001b[0m",
            "\u001b[0;31mNameError\u001b[0m: name 'generer_resultats' is not defined"
          ]
        }
      ],
      "source": [
        "generer_resultats(tree_clf, dataframe_test)"
      ]
    },
    {
      "cell_type": "markdown",
      "metadata": {
        "id": "q8udOwP9CAhn"
      },
      "source": [
        "2.6 Question : Quel est votre meilleur score et Classement ?"
      ]
    },
    {
      "cell_type": "markdown",
      "metadata": {
        "id": "51VUxULkCAhn"
      },
      "source": [
        "## Exercice 3 : Random Forest\n",
        "3.1 En utilisant l'exemple 5, Réalisez un algorithme de Random Forest sur les données Titanic. <br>"
      ]
    },
    {
      "cell_type": "code",
      "execution_count": 67,
      "metadata": {
        "id": "kJpMjNxFCAho",
        "outputId": "13823806-35e3-4303-9bdd-7f431c346009",
        "colab": {
          "base_uri": "https://localhost:8080/"
        }
      },
      "outputs": [
        {
          "output_type": "stream",
          "name": "stdout",
          "text": [
            "Score d'exactitude sur les données de développement : 78.21%\n"
          ]
        }
      ],
      "source": [
        "# Définir les hyperparamètres de la Random Forest\n",
        "n_estimators = 100 # nombre d'arbres dans la forêt\n",
        "max_depth = 5 # profondeur maximale des arbres\n",
        "random_state = 42 # initialisation aléatoire pour la reproductibilité\n",
        "\n",
        "# Créer un classifieur Random Forest avec les hyperparamètres définis\n",
        "rf_clf = RandomForestClassifier(n_estimators=n_estimators, max_depth=max_depth, random_state=random_state)\n",
        "\n",
        "# Entraîner la Random Forest sur les données d'apprentissage\n",
        "rf_clf.fit(X_train, y_train)\n",
        "\n",
        "# Prédire les labels pour les données de développement\n",
        "y_dev_pred = rf_clf.predict(X_dev)\n",
        "\n",
        "# Calculer le score d'exactitude pour les données de développement\n",
        "accuracy = accuracy_score(y_dev, y_dev_pred)\n",
        "\n",
        "# Afficher le score d'exactitude\n",
        "print(\"Score d'exactitude sur les données de développement : {:.2f}%\".format(accuracy*100))"
      ]
    },
    {
      "cell_type": "markdown",
      "metadata": {
        "id": "Q5DnqrJNCAho"
      },
      "source": [
        "3.2 Classez les features par ordre d'importance."
      ]
    },
    {
      "cell_type": "code",
      "execution_count": 68,
      "metadata": {
        "id": "QDvG-zFbCAho",
        "outputId": "3d91a2a2-dca9-4b1d-ecde-d426043b06e5",
        "colab": {
          "base_uri": "https://localhost:8080/"
        }
      },
      "outputs": [
        {
          "output_type": "stream",
          "name": "stdout",
          "text": [
            "Ordre des features par importance :\n",
            "- Title\n",
            "- Sex\n",
            "- Fare\n",
            "- Pclass\n",
            "- Age\n",
            "- Embarked\n",
            "- IsAlone\n"
          ]
        }
      ],
      "source": [
        "importances = rf_clf.feature_importances_\n",
        "sorted_indices = np.argsort(importances)[::-1] # trier les indices des features par ordre décroissant d'importance\n",
        "sorted_features = [feature_names[i] for i in sorted_indices] # trier les noms de features par ordre décroissant d'importance\n",
        "print(\"Ordre des features par importance :\")\n",
        "for f in sorted_features:\n",
        "    print(\"- {}\".format(f))"
      ]
    },
    {
      "cell_type": "markdown",
      "metadata": {
        "id": "Jf8RoLoeCAhp"
      },
      "source": [
        "3.3 Tester dans une boucle différentes valeurs pour max_depth et max_features de l'arbre et pour le nombre d'estimateurs."
      ]
    },
    {
      "cell_type": "code",
      "execution_count": 69,
      "metadata": {
        "id": "WqvpsxGkCAhp",
        "outputId": "c7931bd0-b228-48a4-d130-9c88406387e5",
        "colab": {
          "base_uri": "https://localhost:8080/"
        }
      },
      "outputs": [
        {
          "output_type": "stream",
          "name": "stdout",
          "text": [
            "Meilleurs hyperparamètres : max_depth=7, max_features=sqrt, n_estimators=41\n",
            "Score d'exactitude sur les données de développement : 80.45%\n"
          ]
        }
      ],
      "source": [
        "# Initialiser les variables pour stocker les meilleurs hyperparamètres et score\n",
        "best_max_depth = None\n",
        "best_max_features = None\n",
        "best_n_estimators = None\n",
        "max_accuracy = 0.0\n",
        "\n",
        "# Boucle pour tester différentes combinaisons d'hyperparamètres\n",
        "for max_depth in range(7,20):\n",
        "    for max_features in ['sqrt','log2']: # \n",
        "        for n_estimators in range(40,60):\n",
        "            # Créer un classifieur Random Forest avec les hyperparamètres actuels\n",
        "            rf_clf = RandomForestClassifier(n_estimators=n_estimators, max_depth=max_depth, max_features=max_features, random_state=42)\n",
        "            \n",
        "            # Entraîner la Random Forest sur les données d'apprentissage\n",
        "            rf_clf.fit(X_train, y_train)\n",
        "            \n",
        "            # Prédire les labels pour les données de développement\n",
        "            y_dev_pred = rf_clf.predict(X_dev)\n",
        "            \n",
        "            # Calculer le score d'exactitude pour les données de développement\n",
        "            accuracy = accuracy_score(y_dev, y_dev_pred)\n",
        "            \n",
        "            # Si le score d'exactitude est supérieur au maximum actuel, stocker les hyperparamètres correspondants\n",
        "            if accuracy > max_accuracy:\n",
        "                max_accuracy = accuracy\n",
        "                best_max_depth = max_depth\n",
        "                best_max_features = max_features\n",
        "                best_n_estimators = n_estimators\n",
        "\n",
        "# Afficher les meilleurs hyperparamètres et le score d'exactitude correspondant\n",
        "print(\"Meilleurs hyperparamètres : max_depth={}, max_features={}, n_estimators={}\".format(best_max_depth, best_max_features, best_n_estimators))\n",
        "print(\"Score d'exactitude sur les données de développement : {:.2f}%\".format(max_accuracy*100))"
      ]
    },
    {
      "cell_type": "code",
      "source": [
        "rf_clf = RandomForestClassifier(n_estimators=best_n_estimators, max_depth=best_max_depth, max_features=best_max_features)\n",
        "rf_clf.fit(X_train, y_train)"
      ],
      "metadata": {
        "id": "-i2yxtkhjsHo",
        "outputId": "16fa5e24-8f51-45db-d187-9e0ab66d9d86",
        "colab": {
          "base_uri": "https://localhost:8080/",
          "height": 74
        }
      },
      "execution_count": 71,
      "outputs": [
        {
          "output_type": "execute_result",
          "data": {
            "text/plain": [
              "RandomForestClassifier(max_depth=7, n_estimators=41)"
            ],
            "text/html": [
              "<style>#sk-container-id-14 {color: black;background-color: white;}#sk-container-id-14 pre{padding: 0;}#sk-container-id-14 div.sk-toggleable {background-color: white;}#sk-container-id-14 label.sk-toggleable__label {cursor: pointer;display: block;width: 100%;margin-bottom: 0;padding: 0.3em;box-sizing: border-box;text-align: center;}#sk-container-id-14 label.sk-toggleable__label-arrow:before {content: \"▸\";float: left;margin-right: 0.25em;color: #696969;}#sk-container-id-14 label.sk-toggleable__label-arrow:hover:before {color: black;}#sk-container-id-14 div.sk-estimator:hover label.sk-toggleable__label-arrow:before {color: black;}#sk-container-id-14 div.sk-toggleable__content {max-height: 0;max-width: 0;overflow: hidden;text-align: left;background-color: #f0f8ff;}#sk-container-id-14 div.sk-toggleable__content pre {margin: 0.2em;color: black;border-radius: 0.25em;background-color: #f0f8ff;}#sk-container-id-14 input.sk-toggleable__control:checked~div.sk-toggleable__content {max-height: 200px;max-width: 100%;overflow: auto;}#sk-container-id-14 input.sk-toggleable__control:checked~label.sk-toggleable__label-arrow:before {content: \"▾\";}#sk-container-id-14 div.sk-estimator input.sk-toggleable__control:checked~label.sk-toggleable__label {background-color: #d4ebff;}#sk-container-id-14 div.sk-label input.sk-toggleable__control:checked~label.sk-toggleable__label {background-color: #d4ebff;}#sk-container-id-14 input.sk-hidden--visually {border: 0;clip: rect(1px 1px 1px 1px);clip: rect(1px, 1px, 1px, 1px);height: 1px;margin: -1px;overflow: hidden;padding: 0;position: absolute;width: 1px;}#sk-container-id-14 div.sk-estimator {font-family: monospace;background-color: #f0f8ff;border: 1px dotted black;border-radius: 0.25em;box-sizing: border-box;margin-bottom: 0.5em;}#sk-container-id-14 div.sk-estimator:hover {background-color: #d4ebff;}#sk-container-id-14 div.sk-parallel-item::after {content: \"\";width: 100%;border-bottom: 1px solid gray;flex-grow: 1;}#sk-container-id-14 div.sk-label:hover label.sk-toggleable__label {background-color: #d4ebff;}#sk-container-id-14 div.sk-serial::before {content: \"\";position: absolute;border-left: 1px solid gray;box-sizing: border-box;top: 0;bottom: 0;left: 50%;z-index: 0;}#sk-container-id-14 div.sk-serial {display: flex;flex-direction: column;align-items: center;background-color: white;padding-right: 0.2em;padding-left: 0.2em;position: relative;}#sk-container-id-14 div.sk-item {position: relative;z-index: 1;}#sk-container-id-14 div.sk-parallel {display: flex;align-items: stretch;justify-content: center;background-color: white;position: relative;}#sk-container-id-14 div.sk-item::before, #sk-container-id-14 div.sk-parallel-item::before {content: \"\";position: absolute;border-left: 1px solid gray;box-sizing: border-box;top: 0;bottom: 0;left: 50%;z-index: -1;}#sk-container-id-14 div.sk-parallel-item {display: flex;flex-direction: column;z-index: 1;position: relative;background-color: white;}#sk-container-id-14 div.sk-parallel-item:first-child::after {align-self: flex-end;width: 50%;}#sk-container-id-14 div.sk-parallel-item:last-child::after {align-self: flex-start;width: 50%;}#sk-container-id-14 div.sk-parallel-item:only-child::after {width: 0;}#sk-container-id-14 div.sk-dashed-wrapped {border: 1px dashed gray;margin: 0 0.4em 0.5em 0.4em;box-sizing: border-box;padding-bottom: 0.4em;background-color: white;}#sk-container-id-14 div.sk-label label {font-family: monospace;font-weight: bold;display: inline-block;line-height: 1.2em;}#sk-container-id-14 div.sk-label-container {text-align: center;}#sk-container-id-14 div.sk-container {/* jupyter's `normalize.less` sets `[hidden] { display: none; }` but bootstrap.min.css set `[hidden] { display: none !important; }` so we also need the `!important` here to be able to override the default hidden behavior on the sphinx rendered scikit-learn.org. See: https://github.com/scikit-learn/scikit-learn/issues/21755 */display: inline-block !important;position: relative;}#sk-container-id-14 div.sk-text-repr-fallback {display: none;}</style><div id=\"sk-container-id-14\" class=\"sk-top-container\"><div class=\"sk-text-repr-fallback\"><pre>RandomForestClassifier(max_depth=7, n_estimators=41)</pre><b>In a Jupyter environment, please rerun this cell to show the HTML representation or trust the notebook. <br />On GitHub, the HTML representation is unable to render, please try loading this page with nbviewer.org.</b></div><div class=\"sk-container\" hidden><div class=\"sk-item\"><div class=\"sk-estimator sk-toggleable\"><input class=\"sk-toggleable__control sk-hidden--visually\" id=\"sk-estimator-id-14\" type=\"checkbox\" checked><label for=\"sk-estimator-id-14\" class=\"sk-toggleable__label sk-toggleable__label-arrow\">RandomForestClassifier</label><div class=\"sk-toggleable__content\"><pre>RandomForestClassifier(max_depth=7, n_estimators=41)</pre></div></div></div></div></div>"
            ]
          },
          "metadata": {},
          "execution_count": 71
        }
      ]
    },
    {
      "cell_type": "markdown",
      "metadata": {
        "id": "1Wu7bhJ9CAhq"
      },
      "source": [
        "3.4 Générer un fichier et envoyer les résultats sur Kaggle. Ecrivez ici vos résultats."
      ]
    },
    {
      "cell_type": "code",
      "execution_count": 73,
      "metadata": {
        "id": "lYzNBGoBCAhr",
        "outputId": "e17f1266-eaa9-4732-df0d-7f5aab126aa7",
        "colab": {
          "base_uri": "https://localhost:8080/",
          "height": 165
        }
      },
      "outputs": [
        {
          "output_type": "error",
          "ename": "NameError",
          "evalue": "ignored",
          "traceback": [
            "\u001b[0;31m---------------------------------------------------------------------------\u001b[0m",
            "\u001b[0;31mNameError\u001b[0m                                 Traceback (most recent call last)",
            "\u001b[0;32m<ipython-input-73-c8e0723c2d67>\u001b[0m in \u001b[0;36m<cell line: 1>\u001b[0;34m()\u001b[0m\n\u001b[0;32m----> 1\u001b[0;31m \u001b[0mgenerer_resultats\u001b[0m\u001b[0;34m(\u001b[0m\u001b[0mrf_clf\u001b[0m\u001b[0;34m,\u001b[0m \u001b[0mdataframe_test\u001b[0m\u001b[0;34m)\u001b[0m\u001b[0;34m\u001b[0m\u001b[0;34m\u001b[0m\u001b[0m\n\u001b[0m",
            "\u001b[0;31mNameError\u001b[0m: name 'generer_resultats' is not defined"
          ]
        }
      ],
      "source": [
        "generer_resultats(rf_clf, dataframe_test)"
      ]
    },
    {
      "cell_type": "markdown",
      "metadata": {
        "id": "4kEwbmZ2CAht"
      },
      "source": [
        "3.5 En utilisant la fonction plot_decision_boundary, afficher les résultats pour de l'arbre seul et du modèle de forêt les variables Fare et Age\n",
        "Au moins 3 arguments sont attendus.\n",
        "    clf : Classifier à afficher (Il doit être entraîné sur les 2 variables Fare et Age)\n",
        "    X : features de Données a afficher\n",
        "    y : labels de Données a afficher  "
      ]
    },
    {
      "cell_type": "code",
      "execution_count": 74,
      "metadata": {
        "id": "Dz2DldtOCAht",
        "outputId": "d98dd6b3-b68f-4aa5-fe06-88c4d9839072",
        "colab": {
          "base_uri": "https://localhost:8080/"
        }
      },
      "outputs": [
        {
          "output_type": "stream",
          "name": "stdout",
          "text": [
            "1\n",
            "2\n",
            "3\n",
            "4\n",
            "5\n",
            "6\n",
            "7\n",
            "8\n",
            "9\n",
            "10\n",
            "11\n",
            "12\n",
            "13\n",
            "14\n",
            "15\n",
            "16\n",
            "17\n",
            "18\n",
            "19\n",
            "20\n",
            "21\n",
            "22\n",
            "23\n",
            "24\n",
            "25\n",
            "26\n",
            "27\n",
            "28\n",
            "29\n",
            "30\n",
            "31\n",
            "32\n",
            "33\n",
            "34\n",
            "35\n",
            "36\n",
            "37\n",
            "38\n",
            "39\n",
            "40\n",
            "41\n",
            "42\n",
            "43\n",
            "44\n",
            "45\n",
            "46\n",
            "47\n",
            "48\n",
            "49\n",
            "50\n",
            "51\n",
            "52\n",
            "53\n",
            "54\n",
            "55\n",
            "56\n",
            "57\n",
            "58\n",
            "59\n",
            "60\n",
            "61\n",
            "62\n",
            "63\n",
            "64\n",
            "65\n",
            "66\n",
            "67\n",
            "68\n",
            "69\n",
            "70\n",
            "71\n",
            "72\n",
            "73\n",
            "74\n",
            "75\n",
            "76\n",
            "77\n",
            "78\n",
            "79\n",
            "80\n",
            "81\n",
            "82\n",
            "83\n",
            "84\n",
            "85\n",
            "86\n",
            "87\n",
            "88\n",
            "89\n",
            "90\n",
            "91\n",
            "92\n",
            "93\n",
            "94\n",
            "95\n",
            "96\n",
            "97\n",
            "98\n",
            "99\n"
          ]
        }
      ],
      "source": [
        "max_accuracy = 0\n",
        "best_depth = 1\n",
        "best_estim = 1\n",
        "\n",
        "for i in range(1,100):\n",
        "  print(i)\n",
        "  for y in range(1,10):\n",
        "\n",
        "    rf_clf = RandomForestClassifier(n_estimators=i, max_depth=y)\n",
        "    rf_clf.fit(X_train[:, [2, 3]], y_train)\n",
        "\n",
        "    # Prédire les labels pour les données de développement\n",
        "    y_dev_pred = rf_clf.predict(X_dev[:, [2, 3]])\n",
        "            \n",
        "    # Calculer le score d'exactitude pour les données de développement\n",
        "    accuracy = accuracy_score(y_dev, y_dev_pred)\n",
        "            \n",
        "    # Si le score d'exactitude est supérieur au maximum actuel, stocker les hyperparamètres correspondants\n",
        "    if accuracy > max_accuracy:\n",
        "      max_accuracy = accuracy\n",
        "      best_depth = y\n",
        "      best_estim = i"
      ]
    },
    {
      "cell_type": "markdown",
      "metadata": {
        "id": "Wc54I4ZHCAhu"
      },
      "source": [
        "## Exercice 4 : Boosting\n",
        "4.1 En vous inspirant de l'exemple 6, Testez ici Adaboost"
      ]
    },
    {
      "cell_type": "code",
      "execution_count": null,
      "metadata": {
        "id": "ZPNHppeYCAhu"
      },
      "outputs": [],
      "source": []
    },
    {
      "cell_type": "markdown",
      "metadata": {
        "id": "pYuKBkjLCAhv"
      },
      "source": [
        "4.2 Afficher les résultats. Essayer differents paramètres de max depth, nombre d'estimateurs, taille des arbres ..."
      ]
    },
    {
      "cell_type": "code",
      "execution_count": null,
      "metadata": {
        "id": "fHDFaC4gCAhv"
      },
      "outputs": [],
      "source": []
    },
    {
      "cell_type": "markdown",
      "metadata": {
        "id": "MRyoT3HMCAhw"
      },
      "source": [
        "4.3 Appliquer le \"Early Stopping\" sur le nombre d'estimateurs. Comparer avec le résultat sans Early Stopping. "
      ]
    },
    {
      "cell_type": "code",
      "execution_count": null,
      "metadata": {
        "id": "0mhJmMEiCAhx"
      },
      "outputs": [],
      "source": []
    },
    {
      "cell_type": "markdown",
      "metadata": {
        "id": "LTSeDhK8CAhx"
      },
      "source": [
        "4.4 Générer un fichier et envoyer les résultats sur Kaggle. Ecrivez ici vos résultats."
      ]
    },
    {
      "cell_type": "code",
      "execution_count": null,
      "metadata": {
        "id": "D1POlhyUCAhx"
      },
      "outputs": [],
      "source": []
    },
    {
      "cell_type": "markdown",
      "metadata": {
        "id": "toeixq5FCAhy"
      },
      "source": [
        "4.5 Relancer les modèles de Gradient Boosting avec et sans Early Stopping, en n'utilisant que les variables Age et Fare."
      ]
    },
    {
      "cell_type": "code",
      "execution_count": null,
      "metadata": {
        "id": "xaPQr2vaCAh0"
      },
      "outputs": [],
      "source": []
    },
    {
      "cell_type": "markdown",
      "metadata": {
        "id": "L9mRtbDICAh0"
      },
      "source": [
        "4.6 Afficher les résultats avec et sans Early Stopping avec la fonction plot_decision_boundary"
      ]
    },
    {
      "cell_type": "code",
      "execution_count": null,
      "metadata": {
        "id": "zmx8jqAnCAh1"
      },
      "outputs": [],
      "source": []
    }
  ],
  "metadata": {
    "kernelspec": {
      "display_name": "Python 3.9.6 64-bit",
      "language": "python",
      "name": "python3"
    },
    "language_info": {
      "codemirror_mode": {
        "name": "ipython",
        "version": 3
      },
      "file_extension": ".py",
      "mimetype": "text/x-python",
      "name": "python",
      "nbconvert_exporter": "python",
      "pygments_lexer": "ipython3",
      "version": "3.9.6 (tags/v3.9.6:db3ff76, Jun 28 2021, 15:26:21) [MSC v.1929 64 bit (AMD64)]"
    },
    "metadata": {
      "interpreter": {
        "hash": "8a7f431efea175097450e475ba2074c6e83edf516fa688f7dc4e8ab4342121c4"
      }
    },
    "vscode": {
      "interpreter": {
        "hash": "f7976576504ac6c456dadd405d7477574ca2a64265ee4724cfbc25daae5f6d94"
      }
    },
    "colab": {
      "provenance": [],
      "include_colab_link": true
    }
  },
  "nbformat": 4,
  "nbformat_minor": 0
}